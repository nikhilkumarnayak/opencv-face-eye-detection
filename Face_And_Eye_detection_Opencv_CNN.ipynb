{
 "cells": [
  {
   "cell_type": "markdown",
   "id": "83f73576",
   "metadata": {},
   "source": [
    "# Face & eye Detection in HAAR Cascade Classifiers"
   ]
  },
  {
   "cell_type": "markdown",
   "id": "9840a464",
   "metadata": {},
   "source": [
    "## Import packages"
   ]
  },
  {
   "cell_type": "code",
   "execution_count": 1,
   "id": "6b103861",
   "metadata": {},
   "outputs": [],
   "source": [
    "import os"
   ]
  },
  {
   "cell_type": "code",
   "execution_count": 2,
   "id": "7ae6e7bc",
   "metadata": {},
   "outputs": [
    {
     "name": "stdout",
     "output_type": "stream",
     "text": [
      "Requirement already satisfied: opencv-python in c:\\programdata\\anaconda3\\lib\\site-packages (4.7.0.72)\n",
      "Requirement already satisfied: numpy>=1.17.3 in c:\\programdata\\anaconda3\\lib\\site-packages (from opencv-python) (1.20.1)\n",
      "Note: you may need to restart the kernel to use updated packages.\n"
     ]
    }
   ],
   "source": [
    "pip install opencv-python"
   ]
  },
  {
   "cell_type": "code",
   "execution_count": 3,
   "id": "e91151a6",
   "metadata": {},
   "outputs": [],
   "source": [
    "import cv2\n",
    "import numpy as np"
   ]
  },
  {
   "cell_type": "markdown",
   "id": "99a2439a",
   "metadata": {},
   "source": [
    "## List of Directory items"
   ]
  },
  {
   "cell_type": "code",
   "execution_count": 4,
   "id": "334ca667",
   "metadata": {},
   "outputs": [
    {
     "data": {
      "text/plain": [
       "['.ipynb_checkpoints',\n",
       " 'Face_And_Eye_detection_Opencv_CNN.ipynb',\n",
       " 'haarcascades',\n",
       " 'images']"
      ]
     },
     "execution_count": 4,
     "metadata": {},
     "output_type": "execute_result"
    }
   ],
   "source": [
    "os.listdir()"
   ]
  },
  {
   "cell_type": "markdown",
   "id": "a7318fa8",
   "metadata": {},
   "source": [
    "## Load the FrontalFace Cascade classifier"
   ]
  },
  {
   "cell_type": "code",
   "execution_count": 5,
   "id": "5dfa4f40",
   "metadata": {},
   "outputs": [],
   "source": [
    "face_classifier = cv2.CascadeClassifier('haarcascades/haarcascade_frontalface_default.xml')"
   ]
  },
  {
   "cell_type": "markdown",
   "id": "024c26b4",
   "metadata": {},
   "source": [
    "## Load the image then convert into grayscale"
   ]
  },
  {
   "cell_type": "code",
   "execution_count": 6,
   "id": "b5ed5ede",
   "metadata": {},
   "outputs": [],
   "source": [
    "image = cv2.imread('images/trump-jp.jpg')"
   ]
  },
  {
   "cell_type": "code",
   "execution_count": 7,
   "id": "74aa2ef4",
   "metadata": {},
   "outputs": [
    {
     "data": {
      "text/plain": [
       "-1"
      ]
     },
     "execution_count": 7,
     "metadata": {},
     "output_type": "execute_result"
    }
   ],
   "source": [
    "a = cv2.imshow('image1',image)\n",
    "a\n",
    "cv2.waitKey(0)"
   ]
  },
  {
   "cell_type": "markdown",
   "id": "62d9aaac",
   "metadata": {},
   "source": [
    "## Detect the MultiScale of the image"
   ]
  },
  {
   "cell_type": "code",
   "execution_count": 8,
   "id": "ea78d285",
   "metadata": {},
   "outputs": [
    {
     "data": {
      "text/plain": [
       "array([[291, 113, 283, 283]])"
      ]
     },
     "execution_count": 8,
     "metadata": {},
     "output_type": "execute_result"
    }
   ],
   "source": [
    "faces = face_classifier.detectMultiScale(image,1.3,4)\n",
    "faces"
   ]
  },
  {
   "cell_type": "markdown",
   "id": "3eca3882",
   "metadata": {},
   "source": [
    "    [291, 113, 283, 283]\n",
    "    [ x1 , y1 , x2 , y2]\n",
    "    [ x  , y  , w  , h ] As per the python program.\n",
    "    \n",
    "    By the (x1,y1) &(x2,y2) we will find the another two rectangle points. Like,\n",
    "    (x1,y1)             (x1+x2,y1+y2)\n",
    "       .----------------------.\n",
    "       |                      |\n",
    "       |                      |\n",
    "       |     Image Face       |\n",
    "       |                      |\n",
    "       |                      |\n",
    "       |                      |\n",
    "       .----------------------.\n",
    "    (x2,y2)             (x1+x2,y1+y2)"
   ]
  },
  {
   "cell_type": "code",
   "execution_count": 9,
   "id": "1a75e4b6",
   "metadata": {},
   "outputs": [
    {
     "name": "stderr",
     "output_type": "stream",
     "text": [
      "<>:2: SyntaxWarning: \"is\" with a literal. Did you mean \"==\"?\n",
      "<>:2: SyntaxWarning: \"is\" with a literal. Did you mean \"==\"?\n",
      "<ipython-input-9-63a77ade5770>:2: SyntaxWarning: \"is\" with a literal. Did you mean \"==\"?\n",
      "  if faces is ():\n"
     ]
    }
   ],
   "source": [
    "## When No face detected , face_classifier return and empty tuple\n",
    "if faces is ():\n",
    "    print('No faces found')"
   ]
  },
  {
   "cell_type": "markdown",
   "id": "92192a0f",
   "metadata": {},
   "source": [
    "## Draw the rectangle\n",
    "### Face Detection"
   ]
  },
  {
   "cell_type": "code",
   "execution_count": 10,
   "id": "d041b051",
   "metadata": {},
   "outputs": [],
   "source": [
    "# we iterate through faces array and draw and rectangle.\n",
    "\n",
    "# Detect the Face\n",
    "for (x,y,w,h) in faces:\n",
    "    cv2.rectangle(image,(x,y), (x+w,y+h),(100,0,121),10)\n",
    "    cv2.imshow('Trump_Face',image)\n",
    "    cv2.waitKey(0)\n",
    "cv2.destroyAllWindows()"
   ]
  },
  {
   "cell_type": "markdown",
   "id": "13b8ca0b",
   "metadata": {},
   "source": [
    "Now we did the face detection. \n",
    "After this we will try the eye detection."
   ]
  },
  {
   "cell_type": "markdown",
   "id": "955b2ee9",
   "metadata": {},
   "source": [
    "### Eye Detection"
   ]
  },
  {
   "cell_type": "code",
   "execution_count": 11,
   "id": "ba6329c8",
   "metadata": {},
   "outputs": [],
   "source": [
    "face_classifier = cv2.CascadeClassifier('haarcascades/haarcascade_frontalface_default.xml')\n",
    "eye_classfier = cv2.CascadeClassifier('haarcascades/haarcascade_eye.xml')"
   ]
  },
  {
   "cell_type": "code",
   "execution_count": 12,
   "id": "a1697f9c",
   "metadata": {},
   "outputs": [],
   "source": [
    "image = cv2.imread('images/trump-jp.jpg')\n",
    "gray = cv2.cvtColor(image,cv2.COLOR_BGR2GRAY)"
   ]
  },
  {
   "cell_type": "code",
   "execution_count": 13,
   "id": "3a0a5647",
   "metadata": {},
   "outputs": [],
   "source": []
  },
  {
   "cell_type": "code",
   "execution_count": 14,
   "id": "09b20391",
   "metadata": {},
   "outputs": [
    {
     "name": "stderr",
     "output_type": "stream",
     "text": [
      "<>:1: SyntaxWarning: \"is\" with a literal. Did you mean \"==\"?\n",
      "<>:1: SyntaxWarning: \"is\" with a literal. Did you mean \"==\"?\n",
      "<ipython-input-14-aec39272f535>:1: SyntaxWarning: \"is\" with a literal. Did you mean \"==\"?\n",
      "  if faces is ():\n"
     ]
    }
   ],
   "source": []
  },
  {
   "cell_type": "code",
   "execution_count": 18,
   "id": "026cfd23",
   "metadata": {},
   "outputs": [
    {
     "name": "stderr",
     "output_type": "stream",
     "text": [
      "<>:3: SyntaxWarning: \"is\" with a literal. Did you mean \"==\"?\n",
      "<>:14: SyntaxWarning: \"is\" with a literal. Did you mean \"==\"?\n",
      "<>:3: SyntaxWarning: \"is\" with a literal. Did you mean \"==\"?\n",
      "<>:14: SyntaxWarning: \"is\" with a literal. Did you mean \"==\"?\n",
      "<ipython-input-18-9a73a6478591>:3: SyntaxWarning: \"is\" with a literal. Did you mean \"==\"?\n",
      "  if faces is ():\n",
      "<ipython-input-18-9a73a6478591>:14: SyntaxWarning: \"is\" with a literal. Did you mean \"==\"?\n",
      "  if eyes is ():\n"
     ]
    },
    {
     "name": "stdout",
     "output_type": "stream",
     "text": [
      "No Eyes found\n"
     ]
    }
   ],
   "source": [
    "faces = face_classifier.detectMultiScale(gray)\n",
    "\n",
    "if faces is ():\n",
    "    print('No Face found')\n",
    "    \n",
    "for (x,y,w,h) in faces:\n",
    "    cv2.rectangle(image,(x,y), (x+w,y+h),(127,0,255),2)\n",
    "    cv2.imshow('Trump_Face',image)\n",
    "    roi_gray = gray[y:y+h,x:x+w]\n",
    "    roi_color = image[y:y+h,x:x+w]\n",
    "\n",
    "eyes = eye_classfier.detectMultiScale(roi_gray,1.5,1)\n",
    "\n",
    "if eyes is ():\n",
    "    print('No Eyes found')\n",
    "\n",
    "for (ex,ey,ew,eh) in eyes:\n",
    "    cv2.rectangle(roi_color,(ex,ey), (ex+ew,ey+eh),(225,225,0),2)\n",
    "    cv2.imshow('Trump_Face',image)\n",
    "\n",
    "    \n",
    "cv2.waitKey(0)\n",
    "cv2.destroyAllWindows()"
   ]
  },
  {
   "cell_type": "code",
   "execution_count": 19,
   "id": "7f5134e5",
   "metadata": {},
   "outputs": [
    {
     "data": {
      "text/plain": [
       "()"
      ]
     },
     "execution_count": 19,
     "metadata": {},
     "output_type": "execute_result"
    }
   ],
   "source": [
    "eyes"
   ]
  },
  {
   "cell_type": "code",
   "execution_count": null,
   "id": "43673531",
   "metadata": {},
   "outputs": [],
   "source": []
  }
 ],
 "metadata": {
  "kernelspec": {
   "display_name": "Python 3",
   "language": "python",
   "name": "python3"
  },
  "language_info": {
   "codemirror_mode": {
    "name": "ipython",
    "version": 3
   },
   "file_extension": ".py",
   "mimetype": "text/x-python",
   "name": "python",
   "nbconvert_exporter": "python",
   "pygments_lexer": "ipython3",
   "version": "3.8.8"
  }
 },
 "nbformat": 4,
 "nbformat_minor": 5
}
